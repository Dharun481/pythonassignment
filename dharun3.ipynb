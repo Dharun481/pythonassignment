{
 "cells": [
  {
   "cell_type": "markdown",
   "id": "8b95f081",
   "metadata": {},
   "source": [
    " 1. Movie Ticket Pricing\n",
    "You're writing a function to calculate movie ticket prices based on age.\t\n",
    "    * Kids under 12: $5\n",
    "    * Seniors (60+): $6\n",
    "    * Everyone else: $10\n",
    "Question:\n",
    "Write a function calculate_ticket_price(age) that returns the correct ticket price.\n",
    "Sample Input:\n",
    "    calculate_ticket_price(8)      # Output: 5  \n",
    "    calculate_ticket_price(30)     # Output: 10  \n",
    "    calculate_ticket_price(65)     # Output: 6"
   ]
  },
  {
   "cell_type": "code",
   "execution_count": 8,
   "id": "b69f298f",
   "metadata": {},
   "outputs": [
    {
     "name": "stdout",
     "output_type": "stream",
     "text": [
      "The Cost of the Ticket is $6 Rupees.\n"
     ]
    }
   ],
   "source": [
    "def calculate_ticket_price(age) :\n",
    "    if (age>=0 and age<=12) :\n",
    "        return 5\n",
    "    elif (age>12 and age<=60) :\n",
    "        return 10\n",
    "    elif (age>60) :\n",
    "        return 6\n",
    "    else :\n",
    "        print(\"Enter the Valid Age!!!!!\")\n",
    "        return \"None\"\n",
    "age = int(input(\"Enter Your Correct Age:\"))\n",
    "cost = calculate_ticket_price(age)\n",
    "print(f\"The Cost of the Ticket is ${cost} Rupees.\")"
   ]
  },
  {
   "cell_type": "markdown",
   "id": "00e78712",
   "metadata": {},
   "source": [
    " 2. You’re building a weather app and need a function to convert temperatures from Celsius to Fahrenheit\n",
    "Question:\n",
    "Write a function celsius_to_fahrenheit(celsius) that returns the Fahrenheit equivalent.\n",
    "Sample Input:\n",
    "    celsius_to_fahrenheit(0)       # Output: 32.0  \n",
    "    celsius_to_fahrenheit(37)      # Output: 98.6"
   ]
  },
  {
   "cell_type": "code",
   "execution_count": 11,
   "id": "dc6b60ee",
   "metadata": {},
   "outputs": [
    {
     "name": "stdout",
     "output_type": "stream",
     "text": [
      "The Equivalent Fahrenheit Value for the Entered Celsius Value 37 is 98.60.\n"
     ]
    }
   ],
   "source": [
    "def celsius_to_fahrenheit(celsius) :\n",
    "    fahrenheit = (celsius*(9/5))+32\n",
    "    return fahrenheit\n",
    "celsius = int(input(\"Enter the Celsius Value:\"))\n",
    "value = celsius_to_fahrenheit(celsius)\n",
    "print(f\"The Equivalent Fahrenheit Value for the Entered Celsius Value {celsius} is {value:.2f}.\")"
   ]
  },
  {
   "cell_type": "markdown",
   "id": "8b3d3b1d",
   "metadata": {},
   "source": [
    " 3. You're creating a grading system. Given a score (0–100), return a letter grade:\t\n",
    "        A: 90+\t\n",
    "        B: 80–89\t\n",
    "        C: 70–79\n",
    "        D: 60–69\n",
    "        F: below 60\n",
    "Question:\n",
    "Write a function get_grade(score) that returns the letter grade.\n",
    "Sample Input:\n",
    "    get_grade(85)        # Output: \"B\"  \n",
    "    get_grade(59)        # Output: \"F\""
   ]
  },
  {
   "cell_type": "code",
   "execution_count": 14,
   "id": "f554b043",
   "metadata": {},
   "outputs": [
    {
     "name": "stdout",
     "output_type": "stream",
     "text": [
      "The Student's Grade is Grade-F.\n"
     ]
    }
   ],
   "source": [
    "def get_grade(score) :\n",
    "    if (score<=100 and score>=90) :\n",
    "        return \"A\"\n",
    "    elif (score<90 and score>=80) :\n",
    "        return \"B\"\n",
    "    elif (score<80 and score>=70) :\n",
    "        return \"C\"\n",
    "    elif (score<70 and score>=60) :\n",
    "        return \"D\"\n",
    "    elif (score<60 and score>=0) :\n",
    "        return \"F\"\n",
    "    else :\n",
    "        print(\"Enter a Valid Score!!!!!\")\n",
    "        return \"None\"\n",
    "score = int(input(\"Enter the Student's Score:\"))\n",
    "grade = get_grade(score)\n",
    "print(f\"The Student's Grade is Grade-{grade}.\")"
   ]
  },
  {
   "cell_type": "markdown",
   "id": "514ad440",
   "metadata": {},
   "source": [
    " 4. In a text editing app, users want a function that takes a sentence and reverses each word, keeping the word order the same.\n",
    "Question:\n",
    "Write a function reverse_words(sentence) that reverses the characters of each word.\n",
    "Sample Input:\n",
    "    reverse_words(\"hello world\")    # Output: \"olleh dlrow\"  \n",
    "    reverse_words(\"python is fun\")  # Output: \"nohtyp si nuf\""
   ]
  },
  {
   "cell_type": "code",
   "execution_count": 21,
   "id": "57251799",
   "metadata": {},
   "outputs": [
    {
     "name": "stdout",
     "output_type": "stream",
     "text": [
      "After Reversal == nurahD inarahD\n"
     ]
    }
   ],
   "source": [
    "def reverse_words(sentence) :\n",
    "    reverse = []\n",
    "    lst = sentence.split()\n",
    "    for i in lst :\n",
    "        value = i[::-1]\n",
    "        reverse.append(value)\n",
    "    after_reverse = ' '.join(reverse)\n",
    "    return after_reverse\n",
    "sentence = input(\"Enter the Sentence:\")\n",
    "result = reverse_words(sentence)\n",
    "print(f\"After Reversal == {result}\")"
   ]
  },
  {
   "cell_type": "markdown",
   "id": "94fc4e90",
   "metadata": {},
   "source": [
    " 5. Shipping Cost Calculator :A  company charges shipping based on weight:\n",
    "    Up to 2kg: $5\n",
    "    2–5kg: $10\n",
    "    5kg and above: $15\n",
    "Question:\n",
    "Write a function calculate_shipping(weight) that returns the shipping cost.\n",
    "Sample Input:\n",
    "    calculate_shipping(1.5)     # Output: 5  \n",
    "    calculate_shipping(3.2)     # Output: 10  \n",
    "    calculate_shipping(7.0)     # Output: 15"
   ]
  },
  {
   "cell_type": "code",
   "execution_count": 5,
   "id": "dc2f4c3a",
   "metadata": {},
   "outputs": [
    {
     "name": "stdout",
     "output_type": "stream",
     "text": [
      "The Amount for your Shipping is $15 Rupees.\n"
     ]
    }
   ],
   "source": [
    "def calculate_shipping(weight) :\n",
    "    if (weight<2 and weight>=0) :\n",
    "        return 5\n",
    "    elif (weight<5 and weight>=2) :\n",
    "        return 10\n",
    "    elif (weight>=5) :\n",
    "        return 15\n",
    "    else :\n",
    "        print(\"Enter the Valid weight!!!!!\")\n",
    "        return \"None\"\n",
    "weight = float(input(\"Enter the Weight for the Product:\"))\n",
    "amount = calculate_shipping(weight)\n",
    "print(f\"The Amount for your Shipping is ${amount} Rupees.\")"
   ]
  },
  {
   "cell_type": "markdown",
   "id": "1c6c7527",
   "metadata": {},
   "source": [
    " 6. Password Strength Checker\n",
    "Scenario:\n",
    "    You're building a signup form. The password must be at least 8 characters long and contain at least one uppercase letter, one lowercase letter, and one digit.\n",
    "Question:\n",
    "Write a function is_strong_password(password) that returns True if the password is strong, otherwise False.\n",
    "Sample Input:\n",
    "    is_strong_password(\"Password123\")     # Output: True"
   ]
  },
  {
   "cell_type": "code",
   "execution_count": null,
   "id": "9498546b",
   "metadata": {},
   "outputs": [
    {
     "name": "stdout",
     "output_type": "stream",
     "text": [
      "True\n",
      "The Entered Password is Valid One!!!!!\n"
     ]
    }
   ],
   "source": [
    "def is_strong_password(password) :\n",
    "    cap = False\n",
    "    sma = False\n",
    "    num = False\n",
    "    if (len(password)>=8) :\n",
    "        lst_password = list(password)\n",
    "        for i in lst_password :\n",
    "            if (i.isupper()) :\n",
    "                cap = True \n",
    "            elif (i.islower()) :\n",
    "                sma = True\n",
    "            elif (i.isdigit()) :\n",
    "                num = True\n",
    "            else :\n",
    "                return False\n",
    "    if (cap == True and sma == True and num == True) :\n",
    "        return True \n",
    "    else :\n",
    "        return False\n",
    "password = input(\"Enter the Password for the Verification:\")\n",
    "result = is_strong_password(password)\n",
    "if (result == True) :\n",
    "    print(result)\n",
    "    print(\"The Entered Password is Valid One!!!!!\")\n",
    "else :\n",
    "    print(result)\n",
    "    print(\"Invalid Password!!!!!\")"
   ]
  }
 ],
 "metadata": {
  "kernelspec": {
   "display_name": "Python 3",
   "language": "python",
   "name": "python3"
  },
  "language_info": {
   "codemirror_mode": {
    "name": "ipython",
    "version": 3
   },
   "file_extension": ".py",
   "mimetype": "text/x-python",
   "name": "python",
   "nbconvert_exporter": "python",
   "pygments_lexer": "ipython3",
   "version": "3.11.4"
  }
 },
 "nbformat": 4,
 "nbformat_minor": 5
}
