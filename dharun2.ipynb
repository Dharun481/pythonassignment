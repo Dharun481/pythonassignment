{
 "cells": [
  {
   "cell_type": "markdown",
   "id": "78165b98",
   "metadata": {},
   "source": [
    " 1. Develop a python program for finding the absolute value of a given number. This is always measured as positive number. This number is the distance of given number from the 0(Zero). The input value may be integer, float or complex number in Python. The absolute value of given number may be integer or float."
   ]
  },
  {
   "cell_type": "code",
   "execution_count": null,
   "id": "a003c3f7",
   "metadata": {},
   "outputs": [
    {
     "name": "stdout",
     "output_type": "stream",
     "text": [
      "Enter the Choice for the Input Value You Wanted!!!!! \n",
      "     Menu:    \n",
      " 1. Integer \n",
      " 2. Float \n",
      " 3. Complex \n",
      "The Absolute Value of the Given Number is 36.5666\n"
     ]
    }
   ],
   "source": [
    "print(\"Enter the Choice for the Input Value You Wanted!!!!! \")\n",
    "print(\"     Menu:    \")\n",
    "print(\" 1. Integer \")\n",
    "print(\" 2. Float \")\n",
    "print(\" 3. Complex \")\n",
    "choice = int(input(\"Enter the Choice Value:\"))\n",
    "if (choice == 1) :\n",
    "    num = int(input(\"Enter the Number:\"))\n",
    "elif (choice == 2) :\n",
    "    num = float(input(\"Enter the Number:\"))\n",
    "elif (choice == 3) :\n",
    "    num = complex(input(\"Enter the Number:\"))\n",
    "else :\n",
    "    print(\"Enter the Valid Value!!!!!\")\n",
    "absolute_value = abs(num)\n",
    "print(f\"The Absolute Value of the Given Number is {absolute_value}\")"
   ]
  },
  {
   "cell_type": "markdown",
   "id": "b104def6",
   "metadata": {},
   "source": [
    " 2. Calculate the Total selling price after levying the GST (Goods and Service Tax) as CGST and SGST on sale. CGST (Central Govt. GST), SGST (State Govt. GST).\n",
    "        Sale amount \t\tCGST Rate \t\tSGST Rate\n",
    "         0-50000\t\t    5%\t\t\t     5%\n",
    "         Above 50000\t\t   18%\t\t\t    18%"
   ]
  },
  {
   "cell_type": "code",
   "execution_count": null,
   "id": "362cc7c7",
   "metadata": {},
   "outputs": [
    {
     "name": "stdout",
     "output_type": "stream",
     "text": [
      "The Total Price of the Product After adding GST 136000.0 Rupees.\n"
     ]
    }
   ],
   "source": [
    "price = int(input(\"Enter the Price Amount of the Product:\"))\n",
    "if (price>0 and price<=50000) :\n",
    "    cgst = price*(5/100)\n",
    "    sgst = price*(5/100)\n",
    "    price += cgst+sgst\n",
    "elif (price>50000) :\n",
    "    cgst = price*(18/100)\n",
    "    sgst = price*(18/100)\n",
    "    price += cgst+sgst\n",
    "else :\n",
    "    print(\"Enter the Valid Price for Calculation\")\n",
    "print(f\"The Total Price of the Product After adding GST {price} Rupees.\")"
   ]
  },
  {
   "cell_type": "markdown",
   "id": "5aea6e1c",
   "metadata": {},
   "source": [
    " 3. Write a Python program to construct the following pattern, using a nested for loop.\n",
    "*\n",
    "* *\n",
    "* * *\n",
    "* * * *\n",
    "* * * * *\n",
    "* * * *\n",
    "* * *\n",
    "* *\n",
    "*"
   ]
  },
  {
   "cell_type": "code",
   "execution_count": 3,
   "id": "5991665b",
   "metadata": {},
   "outputs": [
    {
     "name": "stdout",
     "output_type": "stream",
     "text": [
      "* \n",
      "* * \n",
      "* * * \n",
      "* * * * \n",
      "* * * * * \n",
      "* * * * \n",
      "* * * \n",
      "* * \n",
      "* \n"
     ]
    }
   ],
   "source": [
    "str1 = '* '\n",
    "for i in range(1,6) :\n",
    "    for j in range(1,i+1) :\n",
    "        print(str1,end='')\n",
    "    print()\n",
    "for i in range(4,0,-1) :\n",
    "    for j in range(1,i+1) :\n",
    "        print(str1,end='')\n",
    "    print()"
   ]
  },
  {
   "cell_type": "code",
   "execution_count": 1,
   "id": "336cfb5b",
   "metadata": {},
   "outputs": [
    {
     "name": "stdout",
     "output_type": "stream",
     "text": [
      "* \n",
      "* * \n",
      "* * * \n",
      "* * * * \n",
      "* * * * * \n",
      "* * * * \n",
      "* * * \n",
      "* * \n",
      "* \n"
     ]
    }
   ],
   "source": [
    "str1 = '* '\n",
    "for i in range(1,6) :\n",
    "    print(str1*i)\n",
    "for i in range(4,0,-1) :\n",
    "    print(str1*i)"
   ]
  },
  {
   "cell_type": "code",
   "execution_count": 2,
   "id": "0d60936d",
   "metadata": {},
   "outputs": [
    {
     "name": "stdout",
     "output_type": "stream",
     "text": [
      "* \n",
      "* * \n",
      "* * * \n",
      "* * * * \n",
      "* * * * * \n",
      "* * * * \n",
      "* * * \n",
      "* * \n",
      "* \n"
     ]
    }
   ],
   "source": [
    "str1 = '* '\n",
    "j=0\n",
    "for i in range(1,10):\n",
    "    if (i>5) :\n",
    "        j=j+2\n",
    "        i-=j\n",
    "        print(str1*i)\n",
    "    else :\n",
    "        print(str1*i)"
   ]
  },
  {
   "cell_type": "markdown",
   "id": "3c1b415c",
   "metadata": {},
   "source": [
    " 4. Write a Python program to guess a number between 1 and 9.\n",
    "Note:\n",
    "       The User is prompted to enter a guess. If the user guesses wrong, then the prompt appears again until the guess is correct. On a successful guess, the user will get a \"Well guessed!\" message, and the program will exit."
   ]
  },
  {
   "cell_type": "code",
   "execution_count": 3,
   "id": "a8352cfb",
   "metadata": {},
   "outputs": [
    {
     "name": "stdout",
     "output_type": "stream",
     "text": [
      "Your Guess is Wrong,Try Again!!!\n",
      "Congratulations,Well Guessed!!!!!\n"
     ]
    }
   ],
   "source": [
    "num = 7\n",
    "i = True\n",
    "while(i) :\n",
    "    guess = int(input(\"Enter the Guessed Number (from 1 to 9):\"))\n",
    "    if (num == guess) :\n",
    "        print(\"Congratulations,Well Guessed!!!!!\")\n",
    "        i = False\n",
    "    else :\n",
    "        print(\"Your Guess is Wrong,Try Again!!!\")"
   ]
  },
  {
   "cell_type": "markdown",
   "id": "1529929e",
   "metadata": {},
   "source": [
    " 5. You have two streaming subscriptions and want to find out how much you spend each month and how much you could save if you switch to paying annually. Each subscription has a monthly cost and offers a discounted annual rate.\n",
    "Write a Python program to calculate the total monthly cost for both subscriptions, the total annual cost if you continue paying monthly, and compare this with the yearly rates you would pay if you switch to annual payments. Finally, choose the yearly payment option to see how much you could save.\n",
    "       Test Case:\n",
    "Input:\n",
    "Service 1 = $10/month\n",
    "Service 2 = $12/month\n",
    "Annual Discount for Service 1 = $100\n",
    "Annual Discount for Service 2 = $120\n",
    "Expected Output:\n",
    "Monthly Total: $22.00\n",
    "Total Annual Cost without Discount: $264.00\n",
    "Total Annual Discounted Cost: $220.00\n",
    "Total Savings: $44.00."
   ]
  },
  {
   "cell_type": "code",
   "execution_count": 5,
   "id": "d368475e",
   "metadata": {},
   "outputs": [
    {
     "name": "stdout",
     "output_type": "stream",
     "text": [
      "The Total Monthly Cost for the Both Subscriptions is $22.00 Rupees\n",
      "The Total Monthly Amount for the Both Subscriptions for 12 Months is $264.00 Rupees\n",
      "The Total Annual Cost for the Both Subscriptions is $220.00 Rupees\n",
      "The Total Amount Saved if we use the Yearly Subscription is $44.00 Rupees.\n"
     ]
    }
   ],
   "source": [
    "monthly_1 = int(input(\"Enter the Monthly Amount for Subscription 1:\"))\n",
    "monthly_2 = int(input(\"Enter the Monthly Amount for Subscription 2:\"))\n",
    "yearly_1 = int(input(\"Enter the Yearly Amount for Subscription 1:\"))\n",
    "yearly_2 = int(input(\"Enter the Yearly Amount for Subscription 2:\"))\n",
    "monthly_total = monthly_1+monthly_2\n",
    "annual_monthly_total = monthly_total*12\n",
    "yearly_total = yearly_1+yearly_2\n",
    "savings = abs(yearly_total-annual_monthly_total)\n",
    "print(f\"The Total Monthly Cost for the Both Subscriptions is ${monthly_total:.2f} Rupees\")\n",
    "print(f\"The Total Monthly Amount for the Both Subscriptions for 12 Months is ${annual_monthly_total:.2f} Rupees\")\n",
    "print(f\"The Total Annual Cost for the Both Subscriptions is ${yearly_total:.2f} Rupees\")\n",
    "print(f\"The Total Amount Saved if we use the Yearly Subscription is ${savings:.2f} Rupees.\")"
   ]
  },
  {
   "cell_type": "markdown",
   "id": "bc5d79b2",
   "metadata": {},
   "source": [
    " 6. Write a Python program that iterates through integers from 1 to 50. For each multiple of three, print \"Fizz\" instead of the number; for each multiple of five, print \"Buzz\". For numbers that are multiples of both three and five, print \"FizzBuzz\"."
   ]
  },
  {
   "cell_type": "code",
   "execution_count": 7,
   "id": "d6f74ba8",
   "metadata": {},
   "outputs": [
    {
     "name": "stdout",
     "output_type": "stream",
     "text": [
      "-----The Integers-----\n",
      "1\n",
      "2\n",
      "Fizz\n",
      "4\n",
      "Buzz\n",
      "Fizz\n",
      "7\n",
      "8\n",
      "Fizz\n",
      "Buzz\n",
      "11\n",
      "Fizz\n",
      "13\n",
      "14\n",
      "FizzBuzz\n",
      "16\n",
      "17\n",
      "Fizz\n",
      "19\n",
      "Buzz\n",
      "Fizz\n",
      "22\n",
      "23\n",
      "Fizz\n",
      "Buzz\n",
      "26\n",
      "Fizz\n",
      "28\n",
      "29\n",
      "FizzBuzz\n",
      "31\n",
      "32\n",
      "Fizz\n",
      "34\n",
      "Buzz\n",
      "Fizz\n",
      "37\n",
      "38\n",
      "Fizz\n",
      "Buzz\n",
      "41\n",
      "Fizz\n",
      "43\n",
      "44\n",
      "FizzBuzz\n",
      "46\n",
      "47\n",
      "Fizz\n",
      "49\n",
      "Buzz\n"
     ]
    }
   ],
   "source": [
    "print(\"-----The Integers-----\")\n",
    "for i in range(1,51) :\n",
    "    if (i%3==0 and i%5==0) :\n",
    "        print(\"FizzBuzz\")\n",
    "    elif (i%3==0) :\n",
    "        print(\"Fizz\")\n",
    "    elif (i%5==0) :\n",
    "        print(\"Buzz\")\n",
    "    else :\n",
    "        print(i)"
   ]
  },
  {
   "cell_type": "markdown",
   "id": "ae29bea7",
   "metadata": {},
   "source": [
    " 7. Write a Python program that takes two digits, m (row) and n (column) as input and generates a two-dimensional array. The element value in the i-th row and j-th column of the array should be i*j.\n",
    "Note :\n",
    "        i = 0,1.., m-1\n",
    "        j = 0,1, n-1.\n",
    "        Test Data : Rows = 3, Columns = 4\n",
    "        Expected Result : [[0, 0, 0, 0], [0, 1, 2, 3], [0, 2, 4, 6]]."
   ]
  },
  {
   "cell_type": "code",
   "execution_count": 13,
   "id": "c2d20e3d",
   "metadata": {},
   "outputs": [
    {
     "name": "stdout",
     "output_type": "stream",
     "text": [
      "The Result is [[0, 0, 0, 0], [0, 1, 2, 3], [0, 2, 4, 6]].\n"
     ]
    }
   ],
   "source": [
    "rows = int(input(\"Enter the Number of the Rows:\"))\n",
    "columns = int(input(\"Enter the Number of the Columns:\"))\n",
    "lst = []\n",
    "for i in range(rows):\n",
    "    row = []\n",
    "    for j in range(columns):\n",
    "        values = i*j\n",
    "        row.append(values)\n",
    "    lst.append(row)\n",
    "print(f\"The Result is {lst}.\")"
   ]
  },
  {
   "cell_type": "markdown",
   "id": "0edfe24e",
   "metadata": {},
   "source": [
    " 8. Write  a Python program for Grade Classification\n",
    "Scenario:\n",
    "    A school system classifies grades as follows:\n",
    "            A (90 and above)\n",
    "            B (70 to 89)\n",
    "            C (50 to 69)\n",
    "            D (below 50)\n",
    "Question:  What grade will be assigned to a student who scores 85?\n",
    "If the score is 92, what grade will the program output."
   ]
  },
  {
   "cell_type": "code",
   "execution_count": null,
   "id": "d75b426d",
   "metadata": {},
   "outputs": [
    {
     "name": "stdout",
     "output_type": "stream",
     "text": [
      "The Student has secured the Grade-A\n"
     ]
    }
   ],
   "source": [
    "score = int(input(\"Enter the Student Mark:\"))\n",
    "if (score<=100 and score>=90) :\n",
    "    print(\"The Student has secured the Grade-A\")\n",
    "elif (score<90 and score>=70) :\n",
    "    print(\"The Student has secured the Grade-B\")\n",
    "elif (score<70 and score>=50) :\n",
    "    print(\"The Student has secured the Grade-C\")\n",
    "elif (score<50 and score>=0) :\n",
    "    print(\"The Student has secured the Grade-D\")\n",
    "else :\n",
    "    print(\"Kindly,Enter the Valid Score for Calculations!!!!!\")"
   ]
  },
  {
   "cell_type": "markdown",
   "id": "9a37acdc",
   "metadata": {},
   "source": [
    " 9. Write a program that prints the multiplication table of a user-entered number up to 10."
   ]
  },
  {
   "cell_type": "code",
   "execution_count": 35,
   "id": "c456c3a7",
   "metadata": {},
   "outputs": [
    {
     "name": "stdout",
     "output_type": "stream",
     "text": [
      "The Multiplication Table is\n",
      "5*1=5\n",
      "5*2=10\n",
      "5*3=15\n",
      "5*4=20\n",
      "5*5=25\n",
      "5*6=30\n",
      "5*7=35\n",
      "5*8=40\n",
      "5*9=45\n",
      "5*10=50\n"
     ]
    }
   ],
   "source": [
    "num = int(input(\"Enter the Number for Multiplication Table:\"))\n",
    "print(\"The Multiplication Table is\")\n",
    "for i in range(1,11) :\n",
    "    print(f\"{num}*{i}={num*i}\")"
   ]
  },
  {
   "cell_type": "markdown",
   "id": "df142344",
   "metadata": {},
   "source": [
    " 10. Write a Python program to check the validity of passwords input by users.\n",
    "Validation :\n",
    "        At least 1 letter between [a-z] and 1 letter between [A-Z].\n",
    "        At least 1 number between [0-9].\n",
    "        At least 1 character from [$#@].\n",
    "        Minimum length 6 characters.\n",
    "        Maximum length 16 characters."
   ]
  },
  {
   "cell_type": "code",
   "execution_count": 38,
   "id": "933b25d5",
   "metadata": {},
   "outputs": [
    {
     "name": "stdout",
     "output_type": "stream",
     "text": [
      "The Entered Password is Valid One!!!!!\n"
     ]
    }
   ],
   "source": [
    "password = input(\"Enter the Password for the Verification:\")\n",
    "lst_password = list(password)\n",
    "upper = []\n",
    "lower = []\n",
    "num = []\n",
    "spec = []\n",
    "special = [\"$\",\"#\",\"@\"]\n",
    "for i in lst_password :\n",
    "    if (i.isupper() == True) :\n",
    "        upper.append(i)\n",
    "    elif (i.islower() == True) :\n",
    "        lower.append(i)\n",
    "    elif (i.isdigit() == True) :\n",
    "        num.append(i)\n",
    "    elif (i in special) :\n",
    "        spec.append(i)\n",
    "upper_len = len(upper)\n",
    "lower_len = len(lower)\n",
    "num_len = len(num)\n",
    "spec_len = len(spec)\n",
    "len_password = len(password)\n",
    "if (len_password>=6 and len_password<=16) :\n",
    "    if (upper_len>=1 and lower_len>=1 and num_len>=1 and spec_len>=1) :\n",
    "        print(\"The Entered Password is Valid One!!!!!\")\n",
    "    else :\n",
    "        print(\"Invalid Password\")\n",
    "else :\n",
    "        print(\"Invalid Password\")"
   ]
  },
  {
   "cell_type": "code",
   "execution_count": 39,
   "id": "aa6820f8",
   "metadata": {},
   "outputs": [
    {
     "name": "stdout",
     "output_type": "stream",
     "text": [
      "The Entered Password is Valid One!!!!!\n"
     ]
    }
   ],
   "source": [
    "password = input(\"Enter the Password for the Verification:\")\n",
    "capital = ['A','B','C','D','E','F','G','H','I','J','K','L','M','N','O','P','Q','R','S','T','U','V','W','X','Y','Z']\n",
    "small = ['a','b','c','d','e','f','g','h','i','j','k','l','m','n','o','p','q','r','s','t','u','v','w','x','y','z']\n",
    "num = ['1','2','3','4','5','6','7','8','9','0']\n",
    "character = ['!','@','#','$','%','^','&','*']\n",
    "len_password = len(password)\n",
    "lst_password = list(password)\n",
    "cap_count = 0\n",
    "sma_count = 0\n",
    "num_count = 0\n",
    "cha_count = 0\n",
    "if (len_password>=6 and len_password<=16) :\n",
    "    for i in lst_password :\n",
    "        if (i in capital) :\n",
    "            cap_count = 1\n",
    "        if (i in small) :\n",
    "            sma_count = 1\n",
    "        if (i in num) :\n",
    "            num_count = 1\n",
    "        if (i in character) :\n",
    "            cha_count = 1\n",
    "if (cap_count == 1 and sma_count == 1 and num_count == 1 and cha_count == 1) :\n",
    "    print(\"The Entered Password is Valid One!!!!!\")\n",
    "else :\n",
    "    print(\"Invalid Password\") "
   ]
  }
 ],
 "metadata": {
  "kernelspec": {
   "display_name": "Python 3",
   "language": "python",
   "name": "python3"
  },
  "language_info": {
   "codemirror_mode": {
    "name": "ipython",
    "version": 3
   },
   "file_extension": ".py",
   "mimetype": "text/x-python",
   "name": "python",
   "nbconvert_exporter": "python",
   "pygments_lexer": "ipython3",
   "version": "3.11.4"
  }
 },
 "nbformat": 4,
 "nbformat_minor": 5
}
