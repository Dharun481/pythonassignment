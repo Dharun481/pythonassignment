{
 "cells": [
  {
   "cell_type": "markdown",
   "id": "091b5f14",
   "metadata": {},
   "source": [
    "1. Write a program to calculate the area of a triangle using Heron’s formula.\n",
    "(Hint: Heron’s formula is given as: area = sqrt(S*(S–a)*(S–b)*(S–c)))."
   ]
  },
  {
   "cell_type": "code",
   "execution_count": 4,
   "id": "a2e48e06",
   "metadata": {},
   "outputs": [
    {
     "name": "stdout",
     "output_type": "stream",
     "text": [
      "The Area of the Triangle is 10.83\n"
     ]
    }
   ],
   "source": [
    "import math \n",
    "a = int(input(\"Enter the length of the First side:\"))\n",
    "b = int(input(\"Enter the length of the Second side:\"))\n",
    "c = int(input(\"Enter the length of the Third side:\"))\n",
    "S = (a+b+c)/2\n",
    "area = math.sqrt(S*(S-a)*(S-b)*(S-c))\n",
    "print(f\"The Area of the Triangle is {area:.2f}\")"
   ]
  },
  {
   "cell_type": "markdown",
   "id": "37778aa3",
   "metadata": {},
   "source": [
    " 2. Write a program to calculate the distance between two points."
   ]
  },
  {
   "cell_type": "code",
   "execution_count": 2,
   "id": "73feaedb",
   "metadata": {},
   "outputs": [
    {
     "name": "stdout",
     "output_type": "stream",
     "text": [
      "The Distance between the Two Points is 2.83\n"
     ]
    }
   ],
   "source": [
    "import math\n",
    "x1 = int(input(\"Enter the x1 value:\"))\n",
    "y1 = int(input(\"Enter the y1 value:\"))\n",
    "x2 = int(input(\"Enter the x2 value:\"))\n",
    "y2 = int(input(\"Enter the y2 value:\"))\n",
    "distance = math.sqrt((((x2-x1)**2)+((y2-y1)**2)))\n",
    "print(f\"The Distance between the Two Points is {distance:.2f}\")"
   ]
  },
  {
   "cell_type": "code",
   "execution_count": null,
   "id": "5b0b45ba",
   "metadata": {},
   "outputs": [
    {
     "name": "stdout",
     "output_type": "stream",
     "text": [
      "The Distance between the Two Points is 10\n"
     ]
    }
   ],
   "source": [
    "point_1 = int(input(\"Enter the value of the Starting Point:\"))\n",
    "point_2 = int(input(\"Enter the value of the Ending Point:\"))\n",
    "distance = (point_2-point_1)\n",
    "print(\"The Distance between the Two Points is\",distance)"
   ]
  },
  {
   "cell_type": "markdown",
   "id": "af7e60a0",
   "metadata": {},
   "source": [
    " 3. Write a program to calculate the area of a circle, rectangle, triangle, and square."
   ]
  },
  {
   "cell_type": "code",
   "execution_count": 6,
   "id": "a1ba56f2",
   "metadata": {},
   "outputs": [
    {
     "name": "stdout",
     "output_type": "stream",
     "text": [
      "The Area of the Circle is 78.5\n",
      "The Area of the Rectangle is 30\n",
      "The Area of the Triangle is 2014.0\n",
      "The Area of the Square is 484\n"
     ]
    }
   ],
   "source": [
    "radius = int(input(\"Enter the Radius of the Circle:\"))\n",
    "length = int(input(\"Enter the Length of the Rectangle:\"))\n",
    "breadth = int(input(\"Enter the Breadth of the Rectangle:\"))\n",
    "base = int(input(\"Enter the Base of the Triangle:\"))\n",
    "height = int(input(\"Enter the Height of the Triangle:\"))\n",
    "side = int(input(\"Enter the Side of the Square:\"))\n",
    "pi = 3.14\n",
    "area_circle = pi*radius*radius\n",
    "area_rectangle = length*breadth\n",
    "area_triangle = 0.5*base*height\n",
    "area_square = side*side\n",
    "print(\"The Area of the Circle is\",area_circle)\n",
    "print(\"The Area of the Rectangle is\",area_rectangle)\n",
    "print(\"The Area of the Triangle is\",area_triangle)\n",
    "print(\"The Area of the Square is\",area_square)"
   ]
  },
  {
   "cell_type": "markdown",
   "id": "500a7960",
   "metadata": {},
   "source": [
    " 4. Write a program to print the digit at one’s place of a number."
   ]
  },
  {
   "cell_type": "code",
   "execution_count": 12,
   "id": "681f5e65",
   "metadata": {},
   "outputs": [
    {
     "name": "stdout",
     "output_type": "stream",
     "text": [
      "The Digit at one's place of the Given number is 3\n"
     ]
    }
   ],
   "source": [
    "num = int(input(\"Enter a Number to find the one's place:\"))\n",
    "n = num%10\n",
    "print(\"The Digit at one's place of the Given number is\",n)"
   ]
  },
  {
   "cell_type": "markdown",
   "id": "29a64705",
   "metadata": {},
   "source": [
    " 5. Write a program to calculate the total amount of money in the piggy bank, given the coins of ₹10, ₹5, ₹2, and ₹1."
   ]
  },
  {
   "cell_type": "code",
   "execution_count": 13,
   "id": "db8ee7bd",
   "metadata": {},
   "outputs": [
    {
     "name": "stdout",
     "output_type": "stream",
     "text": [
      "The Total Amount in the Piggy Bank is 2090\n"
     ]
    }
   ],
   "source": [
    "num_ten = int(input(\"Enter the Number of Ten Rupees:\"))\n",
    "num_five = int(input(\"Enter the Number of Five Rupees:\"))\n",
    "num_two = int(input(\"Enter the Number of Two Rupees:\"))\n",
    "num_one = int(input(\"Enter the Number of One Rupees:\"))\n",
    "total_amt = (num_ten*10)+(num_five*5)+(num_two*2)+(num_one*1)\n",
    "print(\"The Total Amount in the Piggy Bank is\",total_amt)"
   ]
  },
  {
   "cell_type": "markdown",
   "id": "83cf91ab",
   "metadata": {},
   "source": [
    " 6. Write a program to calculate the bill amount for an item given its quantity sold, value, discount, and tax."
   ]
  },
  {
   "cell_type": "code",
   "execution_count": null,
   "id": "2347501d",
   "metadata": {},
   "outputs": [
    {
     "name": "stdout",
     "output_type": "stream",
     "text": [
      "The Bill Amount for the Item is 49.875\n"
     ]
    }
   ],
   "source": [
    "price = int(input(\"Enter the Price of the Product:\"))\n",
    "quantity = int(input(\"Enter the Quantity of the Product:\"))\n",
    "discount = int(input(\"Enter the Discount for the Product(in Percentage):\"))\n",
    "tax = int(input(\"Enter the Tax for the Product(in Percentage):\"))\n",
    "amount = price*quantity\n",
    "aft_discount = amount*(discount/100)\n",
    "amount-=aft_discount\n",
    "aft_tax=amount*(tax/100)\n",
    "amount+=aft_tax\n",
    "print(\"The Bill Amount for the Item is\",amount)"
   ]
  },
  {
   "cell_type": "markdown",
   "id": "3412d913",
   "metadata": {},
   "source": [
    " 7. Write a python program to calculate a household's electricity bill.\n",
    "The user should enter the number of units consumed. The charges are as follows:\n",
    "    * For the first 100 units: ₹1.50 per unit\n",
    "    * For the next 100 units (101–200): ₹2.00 per unit\n",
    "    * For units above 200: ₹3.00 per unit\n",
    "    \n",
    "A fixed meter charge of ₹50 is added to the bill.\n",
    "Display the total amount to be paid with a proper bill format."
   ]
  },
  {
   "cell_type": "code",
   "execution_count": 1,
   "id": "9f3dc7df",
   "metadata": {},
   "outputs": [
    {
     "name": "stdout",
     "output_type": "stream",
     "text": [
      "The Bill Amount is 770.0\n",
      "-----THE BILL-----\n",
      "-----------------------------------------------\n",
      " S.No     Particulars     Amount    \n",
      " 01     Number of Units     340\n",
      " 02     Unit Amount     770.00\n",
      " 03     Meter Amount     50.00\n",
      " 04        Total         820.00\n",
      "-----------------------------------------------\n"
     ]
    }
   ],
   "source": [
    "units = int(input(\"Enter the Number of Units Consumed:\"))\n",
    "if (units<0) :\n",
    "    print(\"Enter the Proper Number of Units.\")\n",
    "elif (units<=100) :\n",
    "    amount = (units*1.50)\n",
    "    print(\"The Bill Amount is\",amount)\n",
    "elif (units<=200) :\n",
    "    amount = (100*1.50)+((units-100)*2.00)\n",
    "    print(\"The Bill Amount is\",amount)\n",
    "else :\n",
    "    amount = (100*1.50)+(100*2.00)+((units-200)*3.00)\n",
    "    print(\"The Bill Amount is\",amount)\n",
    "meter_amount = 50\n",
    "total_amount = amount+meter_amount\n",
    "print(\"-----THE BILL-----\")\n",
    "print(\"-----------------------------------------------\")\n",
    "print(\" S.No     Particulars     Amount    \")\n",
    "print(f\" 01     Number of Units     {units}\")\n",
    "print(f\" 02     Unit Amount     {amount:.2f}\")\n",
    "print(f\" 03     Meter Amount     {meter_amount:.2f}\")\n",
    "print(f\" 04        Total         {total_amount:.2f}\")\n",
    "print(\"-----------------------------------------------\")"
   ]
  },
  {
   "cell_type": "markdown",
   "id": "640cc07b",
   "metadata": {},
   "source": [
    " 8. Develop a Python program that calculates an employee’s net salary. Accept input for:\n",
    "           * Employee name and ID.\n",
    "           * Number of hours worked.\n",
    "           * Hourly wage.\n",
    "Calculate the gross salary and deduct 10% as tax. Display a proper salary slip with all details."
   ]
  },
  {
   "cell_type": "code",
   "execution_count": 5,
   "id": "58ff453e",
   "metadata": {},
   "outputs": [
    {
     "name": "stdout",
     "output_type": "stream",
     "text": [
      "-----THE SALARY SLIP-----\n",
      "---------------------------------------------------\n",
      " S.No     Particulars     Salary \n",
      " 01        Name           Dharun M\n",
      " 02          Id            51\n",
      " 03     Gross Salary     360000.00\n",
      " 04         Tax               10%\n",
      " 05     Net Salary       324000.00\n",
      "---------------------------------------------------\n"
     ]
    }
   ],
   "source": [
    "emp_name = input(\"Enter the Name of an Employee:\")\n",
    "emp_id = int(input(\"Enter the Id of an Employee:\"))\n",
    "hours_work = int(input(\"Enter the Number of Hours Worked:\"))\n",
    "hours_wages = int(input(\"Enter the Hourly Wages:\"))\n",
    "gross_salary = hours_work*hours_wages*30\n",
    "tax = gross_salary*(10/100)\n",
    "net_salary = gross_salary-tax\n",
    "print(\"-----THE SALARY SLIP-----\")\n",
    "print(\"---------------------------------------------------\")\n",
    "print(\" S.No     Particulars     Salary \")\n",
    "print(f\" 01        Name           {emp_name}\")\n",
    "print(f\" 02          Id            {emp_id}\")\n",
    "print(f\" 03     Gross Salary     {gross_salary:.2f}\")\n",
    "print(\" 04         Tax               10%\")\n",
    "print(f\" 05     Net Salary       {net_salary:.2f}\")\n",
    "print(\"---------------------------------------------------\")"
   ]
  },
  {
   "cell_type": "markdown",
   "id": "3cb436d6",
   "metadata": {},
   "source": [
    " 9. Write a Python program to calculate the total cost of movie tickets. Accept:\n",
    "           * Number of tickets\n",
    "           * Ticket category (Silver: ₹120, Gold: ₹180, Platinum: ₹250)\n",
    "Add 18% GST to the ticket cost. Display a formatted bill."
   ]
  },
  {
   "cell_type": "code",
   "execution_count": 3,
   "id": "d7f5f888",
   "metadata": {},
   "outputs": [
    {
     "name": "stdout",
     "output_type": "stream",
     "text": [
      "-----THE SRI SAKTHI CINEMAS-----\n",
      "--------------------------------------------------------------\n",
      " S.No     Particulars             Amount   \n",
      " 01    Number of Tickets           10\n",
      " 02      Ticket Category           P\n",
      " 03           Tax                    18%  \n",
      " 04          Price                2950.0\n",
      "--------------------------------------------------------------\n"
     ]
    }
   ],
   "source": [
    "num_tickets = int(input(\"Enter the Total Number of Tickets Wanted:\"))\n",
    "ticket_category = input(\"Enter the Ticket Category as (for Silver : S , Gold : G , Platinum : P):\")\n",
    "up_ticket_category = ticket_category.upper()\n",
    "if (up_ticket_category == 'S') :\n",
    "    price = num_tickets*120\n",
    "elif (up_ticket_category == 'G') :\n",
    "    price = num_tickets*180\n",
    "elif (up_ticket_category == 'P') :\n",
    "    price = num_tickets*250\n",
    "else :\n",
    "    print(\"Kindly Enter the Valid Ticket Category!!!!!\")\n",
    "tax = price*(18/100)\n",
    "price += tax\n",
    "print(\"-----THE SRI SAKTHI CINEMAS-----\")\n",
    "print(\"--------------------------------------------------------------\")\n",
    "print(\" S.No     Particulars             Amount   \")\n",
    "print(f\" 01    Number of Tickets           {num_tickets}\")\n",
    "print(f\" 02      Ticket Category           {up_ticket_category}\")\n",
    "print(\" 03           Tax                    18%  \")\n",
    "print(f\" 04          Price                {price}\")\n",
    "print(\"--------------------------------------------------------------\")     "
   ]
  },
  {
   "cell_type": "markdown",
   "id": "b2939cad",
   "metadata": {},
   "source": [
    " 10. Develop a Python program that estimates travel fare based on distance and transport mode. \n",
    "Input:\n",
    "        * Distance (in km)\n",
    "        * Mode (Bus: ₹5/km, Train: ₹2/km, Cab: ₹10/km)\n",
    "Calculate and display the total fare and estimated travel time (assuming constant speeds for each mode)."
   ]
  },
  {
   "cell_type": "code",
   "execution_count": 2,
   "id": "f1c8aeba",
   "metadata": {},
   "outputs": [
    {
     "name": "stdout",
     "output_type": "stream",
     "text": [
      "The Total Fare Amount is 1630 Rupees.\n",
      "The Total Time Taken to reach the Place is 5 Hours 23 Minutes.\n"
     ]
    }
   ],
   "source": [
    "distance = int(input(\"Enter the Distance in Kilometers:\"))\n",
    "mode = input(\"Enter the Mode of Transport (for Bus:B , Train:T , Cab:C):\")\n",
    "cap_mode = mode.upper()\n",
    "speed_bus = 30\n",
    "speed_train = 40\n",
    "speed_cab = 35\n",
    "if (cap_mode == 'B') :\n",
    "    amt_fare = (distance*5)\n",
    "    time_min = (distance%speed_bus)\n",
    "    time_hrs = (distance//speed_bus)\n",
    "elif (cap_mode == 'T') :\n",
    "    amt_fare = (distance*2)\n",
    "    time_min = (distance%speed_train)\n",
    "    time_hrs = (distance//speed_bus)\n",
    "elif (cap_mode == 'C') :\n",
    "    amt_fare = (distance*10)\n",
    "    time_min = (distance%speed_cab)\n",
    "    time_hrs = (distance//speed_bus)\n",
    "print(f\"The Total Fare Amount is {amt_fare} Rupees.\")\n",
    "print(f\"The Total Time Taken to reach the Place is {time_hrs} Hours {time_min} Minutes.\")"
   ]
  }
 ],
 "metadata": {
  "kernelspec": {
   "display_name": "Python 3",
   "language": "python",
   "name": "python3"
  },
  "language_info": {
   "codemirror_mode": {
    "name": "ipython",
    "version": 3
   },
   "file_extension": ".py",
   "mimetype": "text/x-python",
   "name": "python",
   "nbconvert_exporter": "python",
   "pygments_lexer": "ipython3",
   "version": "3.11.4"
  }
 },
 "nbformat": 4,
 "nbformat_minor": 5
}
